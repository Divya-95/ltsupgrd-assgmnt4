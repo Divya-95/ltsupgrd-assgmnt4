{
  "nbformat": 4,
  "nbformat_minor": 0,
  "metadata": {
    "colab": {
      "name": "ltsupgrd assgmnt dy4",
      "provenance": [],
      "collapsed_sections": [],
      "authorship_tag": "ABX9TyM4/GJ89o5AZViDzluRvSoQ",
      "include_colab_link": true
    },
    "kernelspec": {
      "name": "python3",
      "display_name": "Python 3"
    }
  },
  "cells": [
    {
      "cell_type": "markdown",
      "metadata": {
        "id": "view-in-github",
        "colab_type": "text"
      },
      "source": [
        "<a href=\"https://colab.research.google.com/github/Divya-95/ltsupgrd-assgmnt4/blob/master/ltsupgrd_assgmnt_dy4.ipynb\" target=\"_parent\"><img src=\"https://colab.research.google.com/assets/colab-badge.svg\" alt=\"Open In Colab\"/></a>"
      ]
    },
    {
      "cell_type": "code",
      "metadata": {
        "id": "sc_S1gXUohoL",
        "colab_type": "code",
        "colab": {
          "base_uri": "https://localhost:8080/",
          "height": 55
        },
        "outputId": "3ac74437-6f10-4d63-965b-406e2437f5a6"
      },
      "source": [
        "for num in range(1042000,702648266):\n",
        " \n",
        "   # order of number\n",
        "   order = len(str(num))\n",
        "    \n",
        "   # initialize sum\n",
        "   sum = 0\n",
        " \n",
        "   temp = num\n",
        "   while temp > 0:\n",
        "       digit = temp % 10\n",
        "       sum += digit ** order\n",
        "       temp //= 10\n",
        " \n",
        "   if num == sum:\n",
        "       print(\"The first armstrong number is-\",num)\n",
        "       break"
      ],
      "execution_count": 19,
      "outputs": [
        {
          "output_type": "stream",
          "text": [
            "The first armstrong number is- 1741725\n"
          ],
          "name": "stdout"
        }
      ]
    }
  ]
}